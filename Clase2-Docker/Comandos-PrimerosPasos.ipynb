{
 "cells": [
  {
   "cell_type": "markdown",
   "id": "0483673b",
   "metadata": {},
   "source": [
    "## Comandos - Introducción al Ambiente de Docker"
   ]
  },
  {
   "cell_type": "markdown",
   "id": "d9b30c48",
   "metadata": {},
   "source": [
    "#### 1. Docker images\n",
    "\n",
    "```\n",
    "docker images\n",
    "```\n",
    "\n",
    "Este comando devuelve información sobre las imágenes que se han descargado o creado, en base al nombre del repositorio, el tag o la versión, el ID, la fecha creada y el tamaño que ocupa en disco."
   ]
  },
  {
   "cell_type": "markdown",
   "id": "8259b0e8",
   "metadata": {},
   "source": [
    "#### 2. Docker run repository_name\n",
    "\n",
    "```\n",
    "docker run hello-world\n",
    "```\n",
    "\n",
    "Este comando recibe el nombre del repositorio a descargar, primero verifica si ya existe y en caso no, procede a descargarlo."
   ]
  },
  {
   "cell_type": "markdown",
   "id": "9387691e",
   "metadata": {},
   "source": [
    "#### 3. Docker pull repository_name\n",
    "\n",
    "```\n",
    "docker pull busybox\n",
    "```\n",
    "\n",
    "Este comando recibe el nombre del repositorio, a diferencia de docker un, no valida que exista, solo procede a descargar y configurar."
   ]
  },
  {
   "attachments": {},
   "cell_type": "markdown",
   "id": "93d0a8fa",
   "metadata": {},
   "source": [
    "#### 4. Docker run repository_name echo \"string\"\n",
    "\n",
    "```\n",
    "docker run busybox echo \"Hello From Galileo Master!\"\n",
    "```\n",
    "\n",
    "Este comando corre el repositorio en cuestión, pero además, acepta más parámetros, como \"echo\" para que en la imagen al correrlo, imprima una string, por solo decir un ejemplo"
   ]
  },
  {
   "cell_type": "markdown",
   "id": "ac3f6348",
   "metadata": {},
   "source": [
    "#### 5. Docker ps\n",
    "\n",
    "```\n",
    "docker ps\n",
    "```\n",
    "\n",
    "Este comando mostrará la lista de los contenedores que están corriendo"
   ]
  },
  {
   "cell_type": "markdown",
   "id": "6d14f0b4",
   "metadata": {},
   "source": [
    "#### 6. Docker ps -a\n",
    "\n",
    "```\n",
    "docker ps -a\n",
    "```\n",
    "\n",
    "Este comando mostrará la lista de los contenedores que han sido ejecutados."
   ]
  },
  {
   "attachments": {},
   "cell_type": "markdown",
   "id": "122b7f96",
   "metadata": {},
   "source": [
    "#### 7. Docker run -it repository_name sh\n",
    "\n",
    "```\n",
    "docker run -it busybox sh\n",
    "```\n",
    "\n",
    "Este comando recibe parámetros de it que significa que debe existir una interacción con el usuarios, seguido del repositorio en cuestión y sh, que será a través de la shell. Prácticamente nos permitirá visualizar qué es lo que contiene un contenedor."
   ]
  },
  {
   "cell_type": "markdown",
   "id": "421f14cf",
   "metadata": {},
   "source": [
    "#### 8. Docker rm ID o container_name\n",
    "\n",
    "```\n",
    "docker rm 4664a241c20a\n",
    "```\n",
    "\n",
    "Este comando elimina un contenedor en específico, con el fin de liberar espacio o si ya no es de utilidad, recibe el ID del contenedor o el nombre con la que docker lo identificó."
   ]
  },
  {
   "cell_type": "markdown",
   "id": "889bf2cb",
   "metadata": {},
   "source": [
    "#### 9. Docker container prune\n",
    "\n",
    "```\n",
    "Docker container prune\n",
    "```\n",
    "\n",
    "Este comando eliminar todos los contenedores que han sido creadas, una alternativa al docker rm, para no hacerlo uno por uno."
   ]
  },
  {
   "cell_type": "markdown",
   "id": "ee157c06",
   "metadata": {},
   "source": [
    "#### 10. Docker stop container_name\n",
    "\n",
    "```\n",
    "docker stop container_name\n",
    "```\n",
    "\n",
    "Este comando pausa o detiene la ejecución de un contenedor, recibe el nombre del contenedor o el ID. "
   ]
  },
  {
   "cell_type": "markdown",
   "id": "5029bb46",
   "metadata": {},
   "source": [
    "#### 11. Docker run -p PORT_HOST:PORT_CONTAINER repository_name\n",
    "\n",
    "```\n",
    "docker run -p 8888:8888 jupyter/base-notebook\n",
    "```\n",
    "\n",
    "Este comando recibe el parámetro -p, que indica un mapeo de puertos, es decir, el contenedor correrá en el puerto 8888 pero a la que a su vez debe apuntar al puerto del host con el mismo puerto o distinto y seguido del nombre del repositorio"
   ]
  },
  {
   "cell_type": "markdown",
   "id": "0419c8e4",
   "metadata": {},
   "source": [
    "#### 12. Docker network create --driver bridge name_network\n",
    "\n",
    "```\n",
    "docker network create --driver bridge my_test_network\n",
    "```\n",
    "\n",
    "Este comando crea una \"red\" en el ambiente de los contenedores que están corriendo, con la posibilidad de que estos puedan tener un \"puente\" de comunicación, por ejemplo Jupyter y MySQL"
   ]
  },
  {
   "cell_type": "markdown",
   "id": "adb35688",
   "metadata": {},
   "source": [
    "#### 13. Docker inspect network name_network\n",
    "\n",
    "```\n",
    "docker inspect network my_test_network\n",
    "```\n",
    "\n",
    "Este comando devuelve información sobre la red que se ha creado, por ejemplo, las direcciónes IPs de los contenedores que tienen comunicación dentro de ella. "
   ]
  },
  {
   "cell_type": "markdown",
   "id": "77e43d48",
   "metadata": {},
   "source": [
    "### Comandos de Instalación de contenedor de MySQL"
   ]
  },
  {
   "attachments": {},
   "cell_type": "markdown",
   "id": "b5383b1e",
   "metadata": {},
   "source": [
    "#### 1. Iniciar un contenedor MySQL con los datos de su environment asociados a una Red\n",
    "\n",
    "```\n",
    "docker run -it --network my_test_network -e \"MYSQL_ROOT_PASSWORD=root123\" -e \"MYSQL_DATABASE=test\" -e \"MYSQL_USER=test\" -e \"MYSQL_PASSWORD=test123\" mysql:5.7.35\n",
    "```\n",
    "\n",
    "El comando anterior, corre un contenedor en una red que se haya creado en el ambiente de docker, asimismo con el parámetro \"-e\" se pueden pasar los datos del environment de MySQL, como el password, el user, la instancia de base de datos... a lo que a su vez, también se puede definir el tag o la versión que se necesita de MySQL \n"
   ]
  },
  {
   "attachments": {},
   "cell_type": "markdown",
   "id": "c4098535",
   "metadata": {},
   "source": [
    "#### 2. Iniciar un contenedor MySQL con los datos de su environmente asociados a una Red y un mapeo de Puerto\n",
    "\n",
    "```\n",
    "docker run -it --network my_test_network -e \"MYSQL_ROOT_PASSWORD=root123\" -e \"MYSQL_DATABASE=test\" -e \"MYSQL_USER=test\" -e \"MYSQL_PASSWORD=test123\" -p 3306:3306 mysql:5.7.35\n",
    "```\n",
    "\n",
    "Este comando es el mismo como el anterior, solo que se le agrega el parámetro de mapeo de puerto, para que pueda accederse a los servicios a través de un Gestor de base de datos, por ejemplo."
   ]
  },
  {
   "cell_type": "markdown",
   "id": "014f2525",
   "metadata": {},
   "source": [
    "### Docker Compose"
   ]
  },
  {
   "cell_type": "markdown",
   "id": "8186da39",
   "metadata": {},
   "source": [
    "#### 1. docker-compose --version\n",
    "\n",
    "Valida si docker-compose está ya instalado"
   ]
  },
  {
   "cell_type": "markdown",
   "id": "ee393afb",
   "metadata": {},
   "source": [
    "#### 2. docker-compose up\n",
    "\n",
    "Debe ejecutarse en el directorio del archivo .yml con las configuraciones de los repositorios a configurar o instalar, por lo que realiza la instalación y levantamiento de los servicio necesarios de cada contenedor."
   ]
  },
  {
   "cell_type": "markdown",
   "id": "3627eb01",
   "metadata": {},
   "source": [
    "#### 3. docker-compose down\n",
    "\n",
    "Este comando baja o pausa los servicios de los contenedores."
   ]
  },
  {
   "cell_type": "code",
   "execution_count": null,
   "id": "dc2e2e3f",
   "metadata": {},
   "outputs": [],
   "source": []
  }
 ],
 "metadata": {
  "kernelspec": {
   "display_name": "Python 3 (ipykernel)",
   "language": "python",
   "name": "python3"
  },
  "language_info": {
   "codemirror_mode": {
    "name": "ipython",
    "version": 3
   },
   "file_extension": ".py",
   "mimetype": "text/x-python",
   "name": "python",
   "nbconvert_exporter": "python",
   "pygments_lexer": "ipython3",
   "version": "3.9.7"
  }
 },
 "nbformat": 4,
 "nbformat_minor": 5
}
